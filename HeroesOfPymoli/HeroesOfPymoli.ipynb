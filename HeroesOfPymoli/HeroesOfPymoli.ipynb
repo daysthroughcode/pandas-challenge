{
 "cells": [
  {
   "cell_type": "markdown",
   "metadata": {},
   "source": [
    "### Note\n",
    "* Instructions have been included for each segment. You do not have to follow them exactly, but they are included to help you think through the steps."
   ]
  },
  {
   "cell_type": "code",
   "execution_count": 1,
   "metadata": {},
   "outputs": [],
   "source": [
    "# Dependencies and Setup\n",
    "import pandas as pd\n",
    "import numpy as np\n",
    "\n",
    "#Load Raw Data\n",
    "\n",
    "raw_data = \"Resources/purchase_data.csv\"\n",
    "\n",
    "# Read Purchasing File and store into Pandas data frame\n",
    "df = pd.read_csv(raw_data)"
   ]
  },
  {
   "cell_type": "code",
   "execution_count": 2,
   "metadata": {},
   "outputs": [
    {
     "name": "stdout",
     "output_type": "stream",
     "text": [
      "   Purchase ID             SN  Age Gender  Item ID  \\\n",
      "0            0        Lisim78   20   Male      108   \n",
      "1            1    Lisovynya38   40   Male      143   \n",
      "2            2     Ithergue48   24   Male       92   \n",
      "3            3  Chamassasya86   24   Male      100   \n",
      "4            4      Iskosia90   23   Male      131   \n",
      "\n",
      "                                   Item Name  Price  \n",
      "0  Extraction, Quickblade Of Trembling Hands   3.53  \n",
      "1                          Frenzied Scimitar   1.56  \n",
      "2                               Final Critic   4.88  \n",
      "3                                Blindscythe   3.27  \n",
      "4                                       Fury   1.44  \n"
     ]
    }
   ],
   "source": [
    "print(df.head())"
   ]
  },
  {
   "cell_type": "code",
   "execution_count": 3,
   "metadata": {},
   "outputs": [
    {
     "name": "stdout",
     "output_type": "stream",
     "text": [
      "   Purchase_ID             SN  Age Gender  Item_ID  \\\n",
      "0            0        Lisim78   20   Male      108   \n",
      "1            1    Lisovynya38   40   Male      143   \n",
      "2            2     Ithergue48   24   Male       92   \n",
      "3            3  Chamassasya86   24   Male      100   \n",
      "4            4      Iskosia90   23   Male      131   \n",
      "\n",
      "                                   Item_Name  Price  \n",
      "0  Extraction, Quickblade Of Trembling Hands   3.53  \n",
      "1                          Frenzied Scimitar   1.56  \n",
      "2                               Final Critic   4.88  \n",
      "3                                Blindscythe   3.27  \n",
      "4                                       Fury   1.44  \n"
     ]
    }
   ],
   "source": [
    "#Remove white space\n",
    "\n",
    "df = df.rename(columns={'Purchase ID': 'Purchase_ID', 'Item ID': 'Item_ID', 'Item Name': 'Item_Name'})\n",
    "print(df.head())"
   ]
  },
  {
   "cell_type": "code",
   "execution_count": 4,
   "metadata": {},
   "outputs": [
    {
     "name": "stdout",
     "output_type": "stream",
     "text": [
      "(780, 7)\n"
     ]
    }
   ],
   "source": [
    "print(df.shape)"
   ]
  },
  {
   "cell_type": "code",
   "execution_count": 5,
   "metadata": {},
   "outputs": [
    {
     "name": "stdout",
     "output_type": "stream",
     "text": [
      "<class 'pandas.core.frame.DataFrame'>\n",
      "RangeIndex: 780 entries, 0 to 779\n",
      "Data columns (total 7 columns):\n",
      " #   Column       Non-Null Count  Dtype  \n",
      "---  ------       --------------  -----  \n",
      " 0   Purchase_ID  780 non-null    int64  \n",
      " 1   SN           780 non-null    object \n",
      " 2   Age          780 non-null    int64  \n",
      " 3   Gender       780 non-null    object \n",
      " 4   Item_ID      780 non-null    int64  \n",
      " 5   Item_Name    780 non-null    object \n",
      " 6   Price        780 non-null    float64\n",
      "dtypes: float64(1), int64(3), object(3)\n",
      "memory usage: 42.8+ KB\n",
      "None\n"
     ]
    }
   ],
   "source": [
    "print(df.info())"
   ]
  },
  {
   "cell_type": "code",
   "execution_count": 6,
   "metadata": {},
   "outputs": [
    {
     "name": "stdout",
     "output_type": "stream",
     "text": [
      "       Purchase_ID         Age     Item_ID       Price\n",
      "count   780.000000  780.000000  780.000000  780.000000\n",
      "mean    389.500000   22.714103   91.755128    3.050987\n",
      "std     225.310896    6.659444   52.697702    1.169549\n",
      "min       0.000000    7.000000    0.000000    1.000000\n",
      "25%     194.750000   20.000000   47.750000    1.980000\n",
      "50%     389.500000   22.000000   92.000000    3.150000\n",
      "75%     584.250000   25.000000  138.000000    4.080000\n",
      "max     779.000000   45.000000  183.000000    4.990000\n"
     ]
    }
   ],
   "source": [
    "print(df.describe())"
   ]
  },
  {
   "cell_type": "markdown",
   "metadata": {},
   "source": [
    "## Player Count"
   ]
  },
  {
   "cell_type": "markdown",
   "metadata": {},
   "source": [
    "* Display the total number of players\n"
   ]
  },
  {
   "cell_type": "code",
   "execution_count": 7,
   "metadata": {},
   "outputs": [
    {
     "name": "stdout",
     "output_type": "stream",
     "text": [
      " Total Players\n",
      "           576\n"
     ]
    }
   ],
   "source": [
    "#Count Unique screen names and print value\n",
    "\n",
    "players = pd.unique(df.SN)\n",
    "players_sum = [len(players)]\n",
    "play_sum_df = pd.DataFrame(players_sum, columns = [\"Total Players\"])\n",
    "print(play_sum_df.to_string(index=False))"
   ]
  },
  {
   "cell_type": "markdown",
   "metadata": {},
   "source": [
    "## Purchasing Analysis (Total)"
   ]
  },
  {
   "cell_type": "markdown",
   "metadata": {},
   "source": [
    "* Run basic calculations to obtain number of unique items, average price, etc.\n",
    "\n",
    "\n",
    "* Create a summary data frame to hold the results\n",
    "\n",
    "\n",
    "* Optional: give the displayed data cleaner formatting\n",
    "\n",
    "\n",
    "* Display the summary data frame\n"
   ]
  },
  {
   "cell_type": "code",
   "execution_count": 8,
   "metadata": {
    "scrolled": true
   },
   "outputs": [
    {
     "name": "stdout",
     "output_type": "stream",
     "text": [
      "                         Value in $\n",
      " Number of Unique Items      179.00\n",
      "          Average Price        3.05\n",
      "    Number of Purchases      780.00\n",
      "          Total Revenue     2379.77\n"
     ]
    }
   ],
   "source": [
    "#Count Unique Items\n",
    "\n",
    "items = pd.unique(df.Item_ID)\n",
    "item_count = len(items)\n",
    "\n",
    "#Calculate Average Price\n",
    "\n",
    "price_mean = df['Price'].mean()\n",
    "price_mean = round(price_mean, 2)\n",
    "\n",
    "#Calculate Total Purchases\n",
    "\n",
    "total_purch = df['Purchase_ID'].count()\n",
    "\n",
    "#Total Revenue\n",
    "\n",
    "total_rev = df['Price'].sum()\n",
    "\n",
    "#Print Results\n",
    "\n",
    "data_sum = ([\"Number of Unique Items\", item_count], [\"Average Price\", price_mean], [\"Number of Purchases\",total_purch],[\"Total Revenue\", total_rev])\n",
    "sum_df = pd.DataFrame(data_sum, columns=['','Value in $'])\n",
    "print(sum_df.to_string(index=False))"
   ]
  },
  {
   "cell_type": "markdown",
   "metadata": {},
   "source": [
    "## Gender Demographics"
   ]
  },
  {
   "cell_type": "markdown",
   "metadata": {},
   "source": [
    "* Percentage and Count of Male Players\n",
    "\n",
    "\n",
    "* Percentage and Count of Female Players\n",
    "\n",
    "\n",
    "* Percentage and Count of Other / Non-Disclosed\n",
    "\n",
    "\n"
   ]
  },
  {
   "cell_type": "code",
   "execution_count": 9,
   "metadata": {},
   "outputs": [],
   "source": [
    "#Remove Duplicate Screen Names \n",
    "\n",
    "gen_df = df.drop(columns=[\"Item_Name\",\"Price\",\"Item_ID\",\"Purchase_ID\",\"Age\"])\n",
    "gen_df = gen_df.drop_duplicates(subset=['SN'])"
   ]
  },
  {
   "cell_type": "code",
   "execution_count": 10,
   "metadata": {},
   "outputs": [],
   "source": [
    "#Count Gender\n",
    "\n",
    "count_m = gen_df.loc[gen_df.Gender == 'Male', 'Gender'].count()\n",
    "count_f = gen_df.loc[gen_df.Gender == 'Female', 'Gender'].count()\n",
    "count_o = gen_df.loc[gen_df.Gender == 'Other / Non-Disclosed', 'Gender'].count()"
   ]
  },
  {
   "cell_type": "code",
   "execution_count": 11,
   "metadata": {},
   "outputs": [],
   "source": [
    "#Calculate Percentages\n",
    "\n",
    "per_m = round(count_m/(len(gen_df))*100, 2)\n",
    "per_f = round(count_f/(len(gen_df))*100, 2)\n",
    "per_o = round(count_o/(len(gen_df))*100, 2)"
   ]
  },
  {
   "cell_type": "code",
   "execution_count": 34,
   "metadata": {},
   "outputs": [
    {
     "data": {
      "text/html": [
       "<style  type=\"text/css\" >\n",
       "#T_4cf0269e_061a_11eb_8c65_acde48001122row0_col0,#T_4cf0269e_061a_11eb_8c65_acde48001122row0_col1,#T_4cf0269e_061a_11eb_8c65_acde48001122row1_col0,#T_4cf0269e_061a_11eb_8c65_acde48001122row1_col1,#T_4cf0269e_061a_11eb_8c65_acde48001122row2_col0,#T_4cf0269e_061a_11eb_8c65_acde48001122row2_col1{\n",
       "            text-align:  left;\n",
       "        }</style><table id=\"T_4cf0269e_061a_11eb_8c65_acde48001122\" ><thead>    <tr>        <th class=\"blank level0\" ></th>        <th class=\"col_heading level0 col0\" >Total Count</th>        <th class=\"col_heading level0 col1\" >Percentage of Players</th>    </tr></thead><tbody>\n",
       "                <tr>\n",
       "                        <th id=\"T_4cf0269e_061a_11eb_8c65_acde48001122level0_row0\" class=\"row_heading level0 row0\" >Male</th>\n",
       "                        <td id=\"T_4cf0269e_061a_11eb_8c65_acde48001122row0_col0\" class=\"data row0 col0\" >484</td>\n",
       "                        <td id=\"T_4cf0269e_061a_11eb_8c65_acde48001122row0_col1\" class=\"data row0 col1\" >               84.03%</td>\n",
       "            </tr>\n",
       "            <tr>\n",
       "                        <th id=\"T_4cf0269e_061a_11eb_8c65_acde48001122level0_row1\" class=\"row_heading level0 row1\" >Female</th>\n",
       "                        <td id=\"T_4cf0269e_061a_11eb_8c65_acde48001122row1_col0\" class=\"data row1 col0\" >81</td>\n",
       "                        <td id=\"T_4cf0269e_061a_11eb_8c65_acde48001122row1_col1\" class=\"data row1 col1\" >               14.06%</td>\n",
       "            </tr>\n",
       "            <tr>\n",
       "                        <th id=\"T_4cf0269e_061a_11eb_8c65_acde48001122level0_row2\" class=\"row_heading level0 row2\" >Other</th>\n",
       "                        <td id=\"T_4cf0269e_061a_11eb_8c65_acde48001122row2_col0\" class=\"data row2 col0\" >11</td>\n",
       "                        <td id=\"T_4cf0269e_061a_11eb_8c65_acde48001122row2_col1\" class=\"data row2 col1\" >                1.91%</td>\n",
       "            </tr>\n",
       "    </tbody></table>"
      ],
      "text/plain": [
       "<pandas.io.formats.style.Styler at 0x7fc328852a90>"
      ]
     },
     "execution_count": 34,
     "metadata": {},
     "output_type": "execute_result"
    }
   ],
   "source": [
    "#Create Summary DF\n",
    "\n",
    "gen_sum = ([count_m, per_m], [count_f, per_f], [count_o, per_o])\n",
    "gensum_df = pd.DataFrame(gen_sum, index=['Male', 'Female', 'Other'], columns=['Total Count','Percentage of Players'])\n",
    "gensum_df = gensum_df.head(10).style.format({\"Percentage of Players\": \"{:20,.2f}%\"}).set_properties(**{'text-align': 'left'})\n",
    "gensum_df"
   ]
  },
  {
   "cell_type": "markdown",
   "metadata": {},
   "source": [
    "# Purchasing Analysis (Gender)"
   ]
  },
  {
   "cell_type": "markdown",
   "metadata": {},
   "source": [
    "* Run basic calculations to obtain purchase count, avg. purchase price, avg. purchase total per person etc. by gender\n",
    "\n",
    "\n",
    "\n",
    "\n",
    "* Create a summary data frame to hold the results\n",
    "\n",
    "\n",
    "* Optional: give the displayed data cleaner formatting\n",
    "\n",
    "\n",
    "* Display the summary data frame"
   ]
  },
  {
   "cell_type": "code",
   "execution_count": 13,
   "metadata": {},
   "outputs": [],
   "source": [
    "#Use .agg to acquire count mean and sum\n",
    "\n",
    "genresult_df = df.groupby('Gender').Price.agg(['count', 'mean', 'sum'])"
   ]
  },
  {
   "cell_type": "code",
   "execution_count": 14,
   "metadata": {},
   "outputs": [],
   "source": [
    "#Calculate the average spend per person by gender\n",
    "\n",
    "genresult2_df = pd.DataFrame(df.groupby(['Gender', 'SN']).sum()\n",
    "                .groupby(['Gender'])['Price'].mean())  "
   ]
  },
  {
   "cell_type": "code",
   "execution_count": 32,
   "metadata": {},
   "outputs": [
    {
     "data": {
      "text/html": [
       "<style  type=\"text/css\" >\n",
       "#T_451617f8_061a_11eb_8c65_acde48001122row0_col0,#T_451617f8_061a_11eb_8c65_acde48001122row0_col1,#T_451617f8_061a_11eb_8c65_acde48001122row0_col2,#T_451617f8_061a_11eb_8c65_acde48001122row0_col3,#T_451617f8_061a_11eb_8c65_acde48001122row1_col0,#T_451617f8_061a_11eb_8c65_acde48001122row1_col1,#T_451617f8_061a_11eb_8c65_acde48001122row1_col2,#T_451617f8_061a_11eb_8c65_acde48001122row1_col3,#T_451617f8_061a_11eb_8c65_acde48001122row2_col0,#T_451617f8_061a_11eb_8c65_acde48001122row2_col1,#T_451617f8_061a_11eb_8c65_acde48001122row2_col2,#T_451617f8_061a_11eb_8c65_acde48001122row2_col3{\n",
       "            text-align:  left;\n",
       "        }</style><table id=\"T_451617f8_061a_11eb_8c65_acde48001122\" ><thead>    <tr>        <th class=\"blank level0\" ></th>        <th class=\"col_heading level0 col0\" >Purchase Count</th>        <th class=\"col_heading level0 col1\" >Average Purchase Price</th>        <th class=\"col_heading level0 col2\" >Total Purchase Value</th>        <th class=\"col_heading level0 col3\" >Avg Total Purchase per Person</th>    </tr>    <tr>        <th class=\"index_name level0\" >Gender</th>        <th class=\"blank\" ></th>        <th class=\"blank\" ></th>        <th class=\"blank\" ></th>        <th class=\"blank\" ></th>    </tr></thead><tbody>\n",
       "                <tr>\n",
       "                        <th id=\"T_451617f8_061a_11eb_8c65_acde48001122level0_row0\" class=\"row_heading level0 row0\" >Female</th>\n",
       "                        <td id=\"T_451617f8_061a_11eb_8c65_acde48001122row0_col0\" class=\"data row0 col0\" >113</td>\n",
       "                        <td id=\"T_451617f8_061a_11eb_8c65_acde48001122row0_col1\" class=\"data row0 col1\" >$                3.20</td>\n",
       "                        <td id=\"T_451617f8_061a_11eb_8c65_acde48001122row0_col2\" class=\"data row0 col2\" >$              361.94</td>\n",
       "                        <td id=\"T_451617f8_061a_11eb_8c65_acde48001122row0_col3\" class=\"data row0 col3\" >$                4.47</td>\n",
       "            </tr>\n",
       "            <tr>\n",
       "                        <th id=\"T_451617f8_061a_11eb_8c65_acde48001122level0_row1\" class=\"row_heading level0 row1\" >Male</th>\n",
       "                        <td id=\"T_451617f8_061a_11eb_8c65_acde48001122row1_col0\" class=\"data row1 col0\" >652</td>\n",
       "                        <td id=\"T_451617f8_061a_11eb_8c65_acde48001122row1_col1\" class=\"data row1 col1\" >$                3.02</td>\n",
       "                        <td id=\"T_451617f8_061a_11eb_8c65_acde48001122row1_col2\" class=\"data row1 col2\" >$            1,967.64</td>\n",
       "                        <td id=\"T_451617f8_061a_11eb_8c65_acde48001122row1_col3\" class=\"data row1 col3\" >$                4.07</td>\n",
       "            </tr>\n",
       "            <tr>\n",
       "                        <th id=\"T_451617f8_061a_11eb_8c65_acde48001122level0_row2\" class=\"row_heading level0 row2\" >Other / Non-Disclosed</th>\n",
       "                        <td id=\"T_451617f8_061a_11eb_8c65_acde48001122row2_col0\" class=\"data row2 col0\" >15</td>\n",
       "                        <td id=\"T_451617f8_061a_11eb_8c65_acde48001122row2_col1\" class=\"data row2 col1\" >$                3.35</td>\n",
       "                        <td id=\"T_451617f8_061a_11eb_8c65_acde48001122row2_col2\" class=\"data row2 col2\" >$               50.19</td>\n",
       "                        <td id=\"T_451617f8_061a_11eb_8c65_acde48001122row2_col3\" class=\"data row2 col3\" >$                4.56</td>\n",
       "            </tr>\n",
       "    </tbody></table>"
      ],
      "text/plain": [
       "<pandas.io.formats.style.Styler at 0x7fc338e4e490>"
      ]
     },
     "execution_count": 32,
     "metadata": {},
     "output_type": "execute_result"
    }
   ],
   "source": [
    "#Merge and format output\n",
    "\n",
    "results_gen = pd.merge(genresult_df, genresult2_df, how ='inner', on ='Gender')\n",
    "results_gen = results_gen.rename(columns={'count': 'Purchase Count', 'mean': 'Average Purchase Price', 'sum': 'Total Purchase Value', 'Price': 'Avg Total Purchase per Person'})\n",
    "results_gen = results_gen.head(3).style.format({\"Average Purchase Price\": \"${:20,.2f}\", \n",
    "                          \"Total Purchase Value\": \"${:20,.2f}\", \n",
    "                          \"Avg Total Purchase per Person\":\"${:20,.2f}\"}).set_properties(**{'text-align': 'left'})\n",
    "\n",
    "results_gen"
   ]
  },
  {
   "cell_type": "markdown",
   "metadata": {},
   "source": [
    "## Age Demographics"
   ]
  },
  {
   "cell_type": "markdown",
   "metadata": {},
   "source": [
    "* Establish bins for ages\n",
    "\n",
    "\n",
    "* Categorize the existing players using the age bins. Hint: use pd.cut()\n",
    "\n",
    "\n",
    "* Calculate the numbers and percentages by age group\n",
    "\n",
    "\n",
    "* Create a summary data frame to hold the results\n",
    "\n",
    "\n",
    "* Optional: round the percentage column to two decimal points\n",
    "\n",
    "\n",
    "* Display Age Demographics Table\n"
   ]
  },
  {
   "cell_type": "code",
   "execution_count": 16,
   "metadata": {},
   "outputs": [],
   "source": [
    "#Set Bin Ranges\n",
    "bins =[0,9,14,19,24,29,34,39,99]\n",
    "bin_labels = ['<10', '10-14', '15-19', '20-24', '25-29','30-34','35-39','40+']"
   ]
  },
  {
   "cell_type": "code",
   "execution_count": 17,
   "metadata": {},
   "outputs": [],
   "source": [
    "#Clean Duplicate entries\n",
    "\n",
    "bin_data = df.drop_duplicates(subset=['SN'])"
   ]
  },
  {
   "cell_type": "code",
   "execution_count": 18,
   "metadata": {},
   "outputs": [
    {
     "name": "stderr",
     "output_type": "stream",
     "text": [
      "/Users/wvillarosa/opt/anaconda3/envs/class_31/lib/python3.7/site-packages/ipykernel_launcher.py:3: SettingWithCopyWarning: \n",
      "A value is trying to be set on a copy of a slice from a DataFrame.\n",
      "Try using .loc[row_indexer,col_indexer] = value instead\n",
      "\n",
      "See the caveats in the documentation: https://pandas.pydata.org/pandas-docs/stable/user_guide/indexing.html#returning-a-view-versus-a-copy\n",
      "  This is separate from the ipykernel package so we can avoid doing imports until\n"
     ]
    }
   ],
   "source": [
    "#cut into bins\n",
    "\n",
    "bin_data['AgeGroup'] = pd.cut(bin_data.Age,bins,labels = bin_labels)"
   ]
  },
  {
   "cell_type": "code",
   "execution_count": 19,
   "metadata": {},
   "outputs": [
    {
     "data": {
      "text/html": [
       "<style  type=\"text/css\" >\n",
       "#T_bd8b230a_0619_11eb_8c65_acde48001122row0_col0,#T_bd8b230a_0619_11eb_8c65_acde48001122row0_col1,#T_bd8b230a_0619_11eb_8c65_acde48001122row1_col0,#T_bd8b230a_0619_11eb_8c65_acde48001122row1_col1,#T_bd8b230a_0619_11eb_8c65_acde48001122row2_col0,#T_bd8b230a_0619_11eb_8c65_acde48001122row2_col1,#T_bd8b230a_0619_11eb_8c65_acde48001122row3_col0,#T_bd8b230a_0619_11eb_8c65_acde48001122row3_col1,#T_bd8b230a_0619_11eb_8c65_acde48001122row4_col0,#T_bd8b230a_0619_11eb_8c65_acde48001122row4_col1,#T_bd8b230a_0619_11eb_8c65_acde48001122row5_col0,#T_bd8b230a_0619_11eb_8c65_acde48001122row5_col1,#T_bd8b230a_0619_11eb_8c65_acde48001122row6_col0,#T_bd8b230a_0619_11eb_8c65_acde48001122row6_col1,#T_bd8b230a_0619_11eb_8c65_acde48001122row7_col0,#T_bd8b230a_0619_11eb_8c65_acde48001122row7_col1{\n",
       "            text-align:  left;\n",
       "        }</style><table id=\"T_bd8b230a_0619_11eb_8c65_acde48001122\" ><thead>    <tr>        <th class=\"blank level0\" ></th>        <th class=\"col_heading level0 col0\" >Total Count</th>        <th class=\"col_heading level0 col1\" >Percentage of Players</th>    </tr>    <tr>        <th class=\"index_name level0\" >AgeGroup</th>        <th class=\"blank\" ></th>        <th class=\"blank\" ></th>    </tr></thead><tbody>\n",
       "                <tr>\n",
       "                        <th id=\"T_bd8b230a_0619_11eb_8c65_acde48001122level0_row0\" class=\"row_heading level0 row0\" ><10</th>\n",
       "                        <td id=\"T_bd8b230a_0619_11eb_8c65_acde48001122row0_col0\" class=\"data row0 col0\" >               17.00</td>\n",
       "                        <td id=\"T_bd8b230a_0619_11eb_8c65_acde48001122row0_col1\" class=\"data row0 col1\" >                2.95%</td>\n",
       "            </tr>\n",
       "            <tr>\n",
       "                        <th id=\"T_bd8b230a_0619_11eb_8c65_acde48001122level0_row1\" class=\"row_heading level0 row1\" >10-14</th>\n",
       "                        <td id=\"T_bd8b230a_0619_11eb_8c65_acde48001122row1_col0\" class=\"data row1 col0\" >               22.00</td>\n",
       "                        <td id=\"T_bd8b230a_0619_11eb_8c65_acde48001122row1_col1\" class=\"data row1 col1\" >                3.82%</td>\n",
       "            </tr>\n",
       "            <tr>\n",
       "                        <th id=\"T_bd8b230a_0619_11eb_8c65_acde48001122level0_row2\" class=\"row_heading level0 row2\" >15-19</th>\n",
       "                        <td id=\"T_bd8b230a_0619_11eb_8c65_acde48001122row2_col0\" class=\"data row2 col0\" >              107.00</td>\n",
       "                        <td id=\"T_bd8b230a_0619_11eb_8c65_acde48001122row2_col1\" class=\"data row2 col1\" >               18.58%</td>\n",
       "            </tr>\n",
       "            <tr>\n",
       "                        <th id=\"T_bd8b230a_0619_11eb_8c65_acde48001122level0_row3\" class=\"row_heading level0 row3\" >20-24</th>\n",
       "                        <td id=\"T_bd8b230a_0619_11eb_8c65_acde48001122row3_col0\" class=\"data row3 col0\" >              258.00</td>\n",
       "                        <td id=\"T_bd8b230a_0619_11eb_8c65_acde48001122row3_col1\" class=\"data row3 col1\" >               44.79%</td>\n",
       "            </tr>\n",
       "            <tr>\n",
       "                        <th id=\"T_bd8b230a_0619_11eb_8c65_acde48001122level0_row4\" class=\"row_heading level0 row4\" >25-29</th>\n",
       "                        <td id=\"T_bd8b230a_0619_11eb_8c65_acde48001122row4_col0\" class=\"data row4 col0\" >               77.00</td>\n",
       "                        <td id=\"T_bd8b230a_0619_11eb_8c65_acde48001122row4_col1\" class=\"data row4 col1\" >               13.37%</td>\n",
       "            </tr>\n",
       "            <tr>\n",
       "                        <th id=\"T_bd8b230a_0619_11eb_8c65_acde48001122level0_row5\" class=\"row_heading level0 row5\" >30-34</th>\n",
       "                        <td id=\"T_bd8b230a_0619_11eb_8c65_acde48001122row5_col0\" class=\"data row5 col0\" >               52.00</td>\n",
       "                        <td id=\"T_bd8b230a_0619_11eb_8c65_acde48001122row5_col1\" class=\"data row5 col1\" >                9.03%</td>\n",
       "            </tr>\n",
       "            <tr>\n",
       "                        <th id=\"T_bd8b230a_0619_11eb_8c65_acde48001122level0_row6\" class=\"row_heading level0 row6\" >35-39</th>\n",
       "                        <td id=\"T_bd8b230a_0619_11eb_8c65_acde48001122row6_col0\" class=\"data row6 col0\" >               31.00</td>\n",
       "                        <td id=\"T_bd8b230a_0619_11eb_8c65_acde48001122row6_col1\" class=\"data row6 col1\" >                5.38%</td>\n",
       "            </tr>\n",
       "            <tr>\n",
       "                        <th id=\"T_bd8b230a_0619_11eb_8c65_acde48001122level0_row7\" class=\"row_heading level0 row7\" >40+</th>\n",
       "                        <td id=\"T_bd8b230a_0619_11eb_8c65_acde48001122row7_col0\" class=\"data row7 col0\" >               12.00</td>\n",
       "                        <td id=\"T_bd8b230a_0619_11eb_8c65_acde48001122row7_col1\" class=\"data row7 col1\" >                2.08%</td>\n",
       "            </tr>\n",
       "    </tbody></table>"
      ],
      "text/plain": [
       "<pandas.io.formats.style.Styler at 0x7fc309b1a310>"
      ]
     },
     "execution_count": 19,
     "metadata": {},
     "output_type": "execute_result"
    }
   ],
   "source": [
    "age_df = pd.DataFrame(bin_data.groupby('AgeGroup')['Gender'].count())\n",
    "age_df['Percentage of Players'] = (age_df['Gender']/len(bin_data)*100)\n",
    "age_df = age_df.rename(columns={'Gender': 'Total Count'})\n",
    "age_df = age_df.head(8).style.format({\"Total Count\": \"{:20,.2f}\", \n",
    "                          \"Percentage of Players\": \"{:20,.2f}%\"}).set_properties(**{'text-align': 'left'})\n",
    "age_df"
   ]
  },
  {
   "cell_type": "markdown",
   "metadata": {},
   "source": [
    "## Purchasing Analysis (Age)"
   ]
  },
  {
   "cell_type": "markdown",
   "metadata": {},
   "source": [
    "* Bin the purchase_data data frame by age\n",
    "\n",
    "\n",
    "* Run basic calculations to obtain purchase count, avg. purchase price, avg. purchase total per person etc. in the table below\n",
    "\n",
    "\n",
    "* Create a summary data frame to hold the results\n",
    "\n",
    "\n",
    "* Optional: give the displayed data cleaner formatting\n",
    "\n",
    "\n",
    "* Display the summary data frame"
   ]
  },
  {
   "cell_type": "code",
   "execution_count": 20,
   "metadata": {},
   "outputs": [],
   "source": [
    "df_age = df\n",
    "df_age['Age_Ranges'] = pd.cut(df_age.Age,bins,labels = bin_labels)"
   ]
  },
  {
   "cell_type": "code",
   "execution_count": 21,
   "metadata": {},
   "outputs": [
    {
     "data": {
      "text/plain": [
       "(780, 8)"
      ]
     },
     "execution_count": 21,
     "metadata": {},
     "output_type": "execute_result"
    }
   ],
   "source": [
    "df_age.shape"
   ]
  },
  {
   "cell_type": "code",
   "execution_count": 22,
   "metadata": {},
   "outputs": [],
   "source": [
    "ageresult_df = df_age.groupby('Age_Ranges').Price.agg(['count', 'mean', 'sum'])"
   ]
  },
  {
   "cell_type": "code",
   "execution_count": 23,
   "metadata": {},
   "outputs": [],
   "source": [
    "ageresult2_df = pd.DataFrame(df_age.groupby(['Age_Ranges', 'SN']).sum()\n",
    "                .groupby(['Age_Ranges'])['Price'].mean())"
   ]
  },
  {
   "cell_type": "code",
   "execution_count": 24,
   "metadata": {},
   "outputs": [
    {
     "data": {
      "text/html": [
       "<style  type=\"text/css\" >\n",
       "#T_be5ba282_0619_11eb_8c65_acde48001122row0_col0,#T_be5ba282_0619_11eb_8c65_acde48001122row0_col1,#T_be5ba282_0619_11eb_8c65_acde48001122row0_col2,#T_be5ba282_0619_11eb_8c65_acde48001122row0_col3,#T_be5ba282_0619_11eb_8c65_acde48001122row1_col0,#T_be5ba282_0619_11eb_8c65_acde48001122row1_col1,#T_be5ba282_0619_11eb_8c65_acde48001122row1_col2,#T_be5ba282_0619_11eb_8c65_acde48001122row1_col3,#T_be5ba282_0619_11eb_8c65_acde48001122row2_col0,#T_be5ba282_0619_11eb_8c65_acde48001122row2_col1,#T_be5ba282_0619_11eb_8c65_acde48001122row2_col2,#T_be5ba282_0619_11eb_8c65_acde48001122row2_col3,#T_be5ba282_0619_11eb_8c65_acde48001122row3_col0,#T_be5ba282_0619_11eb_8c65_acde48001122row3_col1,#T_be5ba282_0619_11eb_8c65_acde48001122row3_col2,#T_be5ba282_0619_11eb_8c65_acde48001122row3_col3,#T_be5ba282_0619_11eb_8c65_acde48001122row4_col0,#T_be5ba282_0619_11eb_8c65_acde48001122row4_col1,#T_be5ba282_0619_11eb_8c65_acde48001122row4_col2,#T_be5ba282_0619_11eb_8c65_acde48001122row4_col3,#T_be5ba282_0619_11eb_8c65_acde48001122row5_col0,#T_be5ba282_0619_11eb_8c65_acde48001122row5_col1,#T_be5ba282_0619_11eb_8c65_acde48001122row5_col2,#T_be5ba282_0619_11eb_8c65_acde48001122row5_col3,#T_be5ba282_0619_11eb_8c65_acde48001122row6_col0,#T_be5ba282_0619_11eb_8c65_acde48001122row6_col1,#T_be5ba282_0619_11eb_8c65_acde48001122row6_col2,#T_be5ba282_0619_11eb_8c65_acde48001122row6_col3,#T_be5ba282_0619_11eb_8c65_acde48001122row7_col0,#T_be5ba282_0619_11eb_8c65_acde48001122row7_col1,#T_be5ba282_0619_11eb_8c65_acde48001122row7_col2,#T_be5ba282_0619_11eb_8c65_acde48001122row7_col3{\n",
       "            text-align:  left;\n",
       "        }</style><table id=\"T_be5ba282_0619_11eb_8c65_acde48001122\" ><thead>    <tr>        <th class=\"blank level0\" ></th>        <th class=\"col_heading level0 col0\" >Purchase Count</th>        <th class=\"col_heading level0 col1\" >Average Purchase Price</th>        <th class=\"col_heading level0 col2\" >Total Purchase Value</th>        <th class=\"col_heading level0 col3\" >Avg Total Purchase per Person</th>    </tr>    <tr>        <th class=\"index_name level0\" >Age_Ranges</th>        <th class=\"blank\" ></th>        <th class=\"blank\" ></th>        <th class=\"blank\" ></th>        <th class=\"blank\" ></th>    </tr></thead><tbody>\n",
       "                <tr>\n",
       "                        <th id=\"T_be5ba282_0619_11eb_8c65_acde48001122level0_row0\" class=\"row_heading level0 row0\" ><10</th>\n",
       "                        <td id=\"T_be5ba282_0619_11eb_8c65_acde48001122row0_col0\" class=\"data row0 col0\" >23</td>\n",
       "                        <td id=\"T_be5ba282_0619_11eb_8c65_acde48001122row0_col1\" class=\"data row0 col1\" >$                3.35</td>\n",
       "                        <td id=\"T_be5ba282_0619_11eb_8c65_acde48001122row0_col2\" class=\"data row0 col2\" >$               77.13</td>\n",
       "                        <td id=\"T_be5ba282_0619_11eb_8c65_acde48001122row0_col3\" class=\"data row0 col3\" >$                4.54</td>\n",
       "            </tr>\n",
       "            <tr>\n",
       "                        <th id=\"T_be5ba282_0619_11eb_8c65_acde48001122level0_row1\" class=\"row_heading level0 row1\" >10-14</th>\n",
       "                        <td id=\"T_be5ba282_0619_11eb_8c65_acde48001122row1_col0\" class=\"data row1 col0\" >28</td>\n",
       "                        <td id=\"T_be5ba282_0619_11eb_8c65_acde48001122row1_col1\" class=\"data row1 col1\" >$                2.96</td>\n",
       "                        <td id=\"T_be5ba282_0619_11eb_8c65_acde48001122row1_col2\" class=\"data row1 col2\" >$               82.78</td>\n",
       "                        <td id=\"T_be5ba282_0619_11eb_8c65_acde48001122row1_col3\" class=\"data row1 col3\" >$                3.76</td>\n",
       "            </tr>\n",
       "            <tr>\n",
       "                        <th id=\"T_be5ba282_0619_11eb_8c65_acde48001122level0_row2\" class=\"row_heading level0 row2\" >15-19</th>\n",
       "                        <td id=\"T_be5ba282_0619_11eb_8c65_acde48001122row2_col0\" class=\"data row2 col0\" >136</td>\n",
       "                        <td id=\"T_be5ba282_0619_11eb_8c65_acde48001122row2_col1\" class=\"data row2 col1\" >$                3.04</td>\n",
       "                        <td id=\"T_be5ba282_0619_11eb_8c65_acde48001122row2_col2\" class=\"data row2 col2\" >$              412.89</td>\n",
       "                        <td id=\"T_be5ba282_0619_11eb_8c65_acde48001122row2_col3\" class=\"data row2 col3\" >$                3.86</td>\n",
       "            </tr>\n",
       "            <tr>\n",
       "                        <th id=\"T_be5ba282_0619_11eb_8c65_acde48001122level0_row3\" class=\"row_heading level0 row3\" >20-24</th>\n",
       "                        <td id=\"T_be5ba282_0619_11eb_8c65_acde48001122row3_col0\" class=\"data row3 col0\" >365</td>\n",
       "                        <td id=\"T_be5ba282_0619_11eb_8c65_acde48001122row3_col1\" class=\"data row3 col1\" >$                3.05</td>\n",
       "                        <td id=\"T_be5ba282_0619_11eb_8c65_acde48001122row3_col2\" class=\"data row3 col2\" >$            1,114.06</td>\n",
       "                        <td id=\"T_be5ba282_0619_11eb_8c65_acde48001122row3_col3\" class=\"data row3 col3\" >$                4.32</td>\n",
       "            </tr>\n",
       "            <tr>\n",
       "                        <th id=\"T_be5ba282_0619_11eb_8c65_acde48001122level0_row4\" class=\"row_heading level0 row4\" >25-29</th>\n",
       "                        <td id=\"T_be5ba282_0619_11eb_8c65_acde48001122row4_col0\" class=\"data row4 col0\" >101</td>\n",
       "                        <td id=\"T_be5ba282_0619_11eb_8c65_acde48001122row4_col1\" class=\"data row4 col1\" >$                2.90</td>\n",
       "                        <td id=\"T_be5ba282_0619_11eb_8c65_acde48001122row4_col2\" class=\"data row4 col2\" >$              293.00</td>\n",
       "                        <td id=\"T_be5ba282_0619_11eb_8c65_acde48001122row4_col3\" class=\"data row4 col3\" >$                3.81</td>\n",
       "            </tr>\n",
       "            <tr>\n",
       "                        <th id=\"T_be5ba282_0619_11eb_8c65_acde48001122level0_row5\" class=\"row_heading level0 row5\" >30-34</th>\n",
       "                        <td id=\"T_be5ba282_0619_11eb_8c65_acde48001122row5_col0\" class=\"data row5 col0\" >73</td>\n",
       "                        <td id=\"T_be5ba282_0619_11eb_8c65_acde48001122row5_col1\" class=\"data row5 col1\" >$                2.93</td>\n",
       "                        <td id=\"T_be5ba282_0619_11eb_8c65_acde48001122row5_col2\" class=\"data row5 col2\" >$              214.00</td>\n",
       "                        <td id=\"T_be5ba282_0619_11eb_8c65_acde48001122row5_col3\" class=\"data row5 col3\" >$                4.12</td>\n",
       "            </tr>\n",
       "            <tr>\n",
       "                        <th id=\"T_be5ba282_0619_11eb_8c65_acde48001122level0_row6\" class=\"row_heading level0 row6\" >35-39</th>\n",
       "                        <td id=\"T_be5ba282_0619_11eb_8c65_acde48001122row6_col0\" class=\"data row6 col0\" >41</td>\n",
       "                        <td id=\"T_be5ba282_0619_11eb_8c65_acde48001122row6_col1\" class=\"data row6 col1\" >$                3.60</td>\n",
       "                        <td id=\"T_be5ba282_0619_11eb_8c65_acde48001122row6_col2\" class=\"data row6 col2\" >$              147.67</td>\n",
       "                        <td id=\"T_be5ba282_0619_11eb_8c65_acde48001122row6_col3\" class=\"data row6 col3\" >$                4.76</td>\n",
       "            </tr>\n",
       "            <tr>\n",
       "                        <th id=\"T_be5ba282_0619_11eb_8c65_acde48001122level0_row7\" class=\"row_heading level0 row7\" >40+</th>\n",
       "                        <td id=\"T_be5ba282_0619_11eb_8c65_acde48001122row7_col0\" class=\"data row7 col0\" >13</td>\n",
       "                        <td id=\"T_be5ba282_0619_11eb_8c65_acde48001122row7_col1\" class=\"data row7 col1\" >$                2.94</td>\n",
       "                        <td id=\"T_be5ba282_0619_11eb_8c65_acde48001122row7_col2\" class=\"data row7 col2\" >$               38.24</td>\n",
       "                        <td id=\"T_be5ba282_0619_11eb_8c65_acde48001122row7_col3\" class=\"data row7 col3\" >$                3.19</td>\n",
       "            </tr>\n",
       "    </tbody></table>"
      ],
      "text/plain": [
       "<pandas.io.formats.style.Styler at 0x7fc338e43d10>"
      ]
     },
     "execution_count": 24,
     "metadata": {},
     "output_type": "execute_result"
    }
   ],
   "source": [
    "#Merge and Format Output\n",
    "\n",
    "results_age = pd.merge(ageresult_df, ageresult2_df, how ='inner', on ='Age_Ranges')\n",
    "results_age = results_age.rename(columns={'count': 'Purchase Count', 'mean': 'Average Purchase Price', 'sum': 'Total Purchase Value', 'Price': 'Avg Total Purchase per Person'})\n",
    "results_age = results_age.head(10).style.format({\"Average Purchase Price\": \"${:20,.2f}\", \n",
    "                          \"Total Purchase Value\": \"${:20,.2f}\", \n",
    "                          \"Avg Total Purchase per Person\":\"${:20,.2f}\"}).set_properties(**{'text-align': 'left'})\n",
    "results_age"
   ]
  },
  {
   "cell_type": "markdown",
   "metadata": {},
   "source": [
    "## Top Spenders"
   ]
  },
  {
   "cell_type": "markdown",
   "metadata": {},
   "source": [
    "* Run basic calculations to obtain the results in the table below\n",
    "\n",
    "\n",
    "* Create a summary data frame to hold the results\n",
    "\n",
    "\n",
    "* Sort the total purchase value column in descending order\n",
    "\n",
    "\n",
    "* Optional: give the displayed data cleaner formatting\n",
    "\n",
    "\n",
    "* Display a preview of the summary data frame\n",
    "\n"
   ]
  },
  {
   "cell_type": "code",
   "execution_count": 25,
   "metadata": {},
   "outputs": [
    {
     "data": {
      "text/html": [
       "<style  type=\"text/css\" >\n",
       "#T_bf0b4426_0619_11eb_8c65_acde48001122row0_col0,#T_bf0b4426_0619_11eb_8c65_acde48001122row0_col1,#T_bf0b4426_0619_11eb_8c65_acde48001122row0_col2,#T_bf0b4426_0619_11eb_8c65_acde48001122row1_col0,#T_bf0b4426_0619_11eb_8c65_acde48001122row1_col1,#T_bf0b4426_0619_11eb_8c65_acde48001122row1_col2,#T_bf0b4426_0619_11eb_8c65_acde48001122row2_col0,#T_bf0b4426_0619_11eb_8c65_acde48001122row2_col1,#T_bf0b4426_0619_11eb_8c65_acde48001122row2_col2,#T_bf0b4426_0619_11eb_8c65_acde48001122row3_col0,#T_bf0b4426_0619_11eb_8c65_acde48001122row3_col1,#T_bf0b4426_0619_11eb_8c65_acde48001122row3_col2,#T_bf0b4426_0619_11eb_8c65_acde48001122row4_col0,#T_bf0b4426_0619_11eb_8c65_acde48001122row4_col1,#T_bf0b4426_0619_11eb_8c65_acde48001122row4_col2{\n",
       "            text-align:  left;\n",
       "        }</style><table id=\"T_bf0b4426_0619_11eb_8c65_acde48001122\" ><thead>    <tr>        <th class=\"blank level0\" ></th>        <th class=\"col_heading level0 col0\" >Total Count</th>        <th class=\"col_heading level0 col1\" >Average Purchase Price</th>        <th class=\"col_heading level0 col2\" >Total Purchase Value</th>    </tr>    <tr>        <th class=\"index_name level0\" >SN</th>        <th class=\"blank\" ></th>        <th class=\"blank\" ></th>        <th class=\"blank\" ></th>    </tr></thead><tbody>\n",
       "                <tr>\n",
       "                        <th id=\"T_bf0b4426_0619_11eb_8c65_acde48001122level0_row0\" class=\"row_heading level0 row0\" >Lisosia93</th>\n",
       "                        <td id=\"T_bf0b4426_0619_11eb_8c65_acde48001122row0_col0\" class=\"data row0 col0\" >5</td>\n",
       "                        <td id=\"T_bf0b4426_0619_11eb_8c65_acde48001122row0_col1\" class=\"data row0 col1\" >$                3.79</td>\n",
       "                        <td id=\"T_bf0b4426_0619_11eb_8c65_acde48001122row0_col2\" class=\"data row0 col2\" >$               18.96</td>\n",
       "            </tr>\n",
       "            <tr>\n",
       "                        <th id=\"T_bf0b4426_0619_11eb_8c65_acde48001122level0_row1\" class=\"row_heading level0 row1\" >Idastidru52</th>\n",
       "                        <td id=\"T_bf0b4426_0619_11eb_8c65_acde48001122row1_col0\" class=\"data row1 col0\" >4</td>\n",
       "                        <td id=\"T_bf0b4426_0619_11eb_8c65_acde48001122row1_col1\" class=\"data row1 col1\" >$                3.86</td>\n",
       "                        <td id=\"T_bf0b4426_0619_11eb_8c65_acde48001122row1_col2\" class=\"data row1 col2\" >$               15.45</td>\n",
       "            </tr>\n",
       "            <tr>\n",
       "                        <th id=\"T_bf0b4426_0619_11eb_8c65_acde48001122level0_row2\" class=\"row_heading level0 row2\" >Chamjask73</th>\n",
       "                        <td id=\"T_bf0b4426_0619_11eb_8c65_acde48001122row2_col0\" class=\"data row2 col0\" >3</td>\n",
       "                        <td id=\"T_bf0b4426_0619_11eb_8c65_acde48001122row2_col1\" class=\"data row2 col1\" >$                4.61</td>\n",
       "                        <td id=\"T_bf0b4426_0619_11eb_8c65_acde48001122row2_col2\" class=\"data row2 col2\" >$               13.83</td>\n",
       "            </tr>\n",
       "            <tr>\n",
       "                        <th id=\"T_bf0b4426_0619_11eb_8c65_acde48001122level0_row3\" class=\"row_heading level0 row3\" >Iral74</th>\n",
       "                        <td id=\"T_bf0b4426_0619_11eb_8c65_acde48001122row3_col0\" class=\"data row3 col0\" >4</td>\n",
       "                        <td id=\"T_bf0b4426_0619_11eb_8c65_acde48001122row3_col1\" class=\"data row3 col1\" >$                3.40</td>\n",
       "                        <td id=\"T_bf0b4426_0619_11eb_8c65_acde48001122row3_col2\" class=\"data row3 col2\" >$               13.62</td>\n",
       "            </tr>\n",
       "            <tr>\n",
       "                        <th id=\"T_bf0b4426_0619_11eb_8c65_acde48001122level0_row4\" class=\"row_heading level0 row4\" >Iskadarya95</th>\n",
       "                        <td id=\"T_bf0b4426_0619_11eb_8c65_acde48001122row4_col0\" class=\"data row4 col0\" >3</td>\n",
       "                        <td id=\"T_bf0b4426_0619_11eb_8c65_acde48001122row4_col1\" class=\"data row4 col1\" >$                4.37</td>\n",
       "                        <td id=\"T_bf0b4426_0619_11eb_8c65_acde48001122row4_col2\" class=\"data row4 col2\" >$               13.10</td>\n",
       "            </tr>\n",
       "    </tbody></table>"
      ],
      "text/plain": [
       "<pandas.io.formats.style.Styler at 0x7fc338e437d0>"
      ]
     },
     "execution_count": 25,
     "metadata": {},
     "output_type": "execute_result"
    }
   ],
   "source": [
    "#Calculate Values\n",
    "topspend_df = pd.DataFrame(df.groupby(['SN',]).Price.agg(['count', 'mean', 'sum']))\n",
    "\n",
    "#Sort by total \n",
    "topspend_df = topspend_df.sort_values(by='sum', ascending=False)\n",
    "\n",
    "\n",
    "#Rename and format\n",
    "topspend_df = topspend_df.rename(columns={'count': 'Total Count','mean': 'Average Purchase Price','sum': 'Total Purchase Value'})\n",
    "topspend_df = topspend_df.head(5).style.format({\"Average Purchase Price\": \"${:20,.2f}\",\"Total Purchase Value\": \"${:20,.2f}\"}).set_properties(**{'text-align': 'left'})\n",
    "topspend_df"
   ]
  },
  {
   "cell_type": "markdown",
   "metadata": {},
   "source": [
    "## Most Popular Items"
   ]
  },
  {
   "cell_type": "markdown",
   "metadata": {},
   "source": [
    "* Retrieve the Item ID, Item Name, and Item Price columns\n",
    "\n",
    "\n",
    "* Group by Item ID and Item Name. Perform calculations to obtain purchase count, item price, and total purchase value\n",
    "\n",
    "\n",
    "* Create a summary data frame to hold the results\n",
    "\n",
    "\n",
    "* Sort the purchase count column in descending order\n",
    "\n",
    "\n",
    "* Optional: give the displayed data cleaner formatting\n",
    "\n",
    "\n",
    "* Display a preview of the summary data frame\n",
    "\n"
   ]
  },
  {
   "cell_type": "code",
   "execution_count": 31,
   "metadata": {},
   "outputs": [
    {
     "data": {
      "text/html": [
       "<style  type=\"text/css\" >\n",
       "#T_10e045b2_061a_11eb_8c65_acde48001122row0_col0,#T_10e045b2_061a_11eb_8c65_acde48001122row0_col1,#T_10e045b2_061a_11eb_8c65_acde48001122row0_col2,#T_10e045b2_061a_11eb_8c65_acde48001122row1_col0,#T_10e045b2_061a_11eb_8c65_acde48001122row1_col1,#T_10e045b2_061a_11eb_8c65_acde48001122row1_col2,#T_10e045b2_061a_11eb_8c65_acde48001122row2_col0,#T_10e045b2_061a_11eb_8c65_acde48001122row2_col1,#T_10e045b2_061a_11eb_8c65_acde48001122row2_col2,#T_10e045b2_061a_11eb_8c65_acde48001122row3_col0,#T_10e045b2_061a_11eb_8c65_acde48001122row3_col1,#T_10e045b2_061a_11eb_8c65_acde48001122row3_col2,#T_10e045b2_061a_11eb_8c65_acde48001122row4_col0,#T_10e045b2_061a_11eb_8c65_acde48001122row4_col1,#T_10e045b2_061a_11eb_8c65_acde48001122row4_col2{\n",
       "            text-align:  left;\n",
       "        }</style><table id=\"T_10e045b2_061a_11eb_8c65_acde48001122\" ><thead>    <tr>        <th class=\"blank\" ></th>        <th class=\"blank level0\" ></th>        <th class=\"col_heading level0 col0\" >Purchase Count</th>        <th class=\"col_heading level0 col1\" >Average Purchase Price</th>        <th class=\"col_heading level0 col2\" >Total Purchase Value</th>    </tr>    <tr>        <th class=\"index_name level0\" >Item_ID</th>        <th class=\"index_name level1\" >Item_Name</th>        <th class=\"blank\" ></th>        <th class=\"blank\" ></th>        <th class=\"blank\" ></th>    </tr></thead><tbody>\n",
       "                <tr>\n",
       "                        <th id=\"T_10e045b2_061a_11eb_8c65_acde48001122level0_row0\" class=\"row_heading level0 row0\" >92</th>\n",
       "                        <th id=\"T_10e045b2_061a_11eb_8c65_acde48001122level1_row0\" class=\"row_heading level1 row0\" >Final Critic</th>\n",
       "                        <td id=\"T_10e045b2_061a_11eb_8c65_acde48001122row0_col0\" class=\"data row0 col0\" >13</td>\n",
       "                        <td id=\"T_10e045b2_061a_11eb_8c65_acde48001122row0_col1\" class=\"data row0 col1\" >$                4.61</td>\n",
       "                        <td id=\"T_10e045b2_061a_11eb_8c65_acde48001122row0_col2\" class=\"data row0 col2\" >$               59.99</td>\n",
       "            </tr>\n",
       "            <tr>\n",
       "                        <th id=\"T_10e045b2_061a_11eb_8c65_acde48001122level0_row1\" class=\"row_heading level0 row1\" >178</th>\n",
       "                        <th id=\"T_10e045b2_061a_11eb_8c65_acde48001122level1_row1\" class=\"row_heading level1 row1\" >Oathbreaker, Last Hope of the Breaking Storm</th>\n",
       "                        <td id=\"T_10e045b2_061a_11eb_8c65_acde48001122row1_col0\" class=\"data row1 col0\" >12</td>\n",
       "                        <td id=\"T_10e045b2_061a_11eb_8c65_acde48001122row1_col1\" class=\"data row1 col1\" >$                4.23</td>\n",
       "                        <td id=\"T_10e045b2_061a_11eb_8c65_acde48001122row1_col2\" class=\"data row1 col2\" >$               50.76</td>\n",
       "            </tr>\n",
       "            <tr>\n",
       "                        <th id=\"T_10e045b2_061a_11eb_8c65_acde48001122level0_row2\" class=\"row_heading level0 row2\" >145</th>\n",
       "                        <th id=\"T_10e045b2_061a_11eb_8c65_acde48001122level1_row2\" class=\"row_heading level1 row2\" >Fiery Glass Crusader</th>\n",
       "                        <td id=\"T_10e045b2_061a_11eb_8c65_acde48001122row2_col0\" class=\"data row2 col0\" >9</td>\n",
       "                        <td id=\"T_10e045b2_061a_11eb_8c65_acde48001122row2_col1\" class=\"data row2 col1\" >$                4.58</td>\n",
       "                        <td id=\"T_10e045b2_061a_11eb_8c65_acde48001122row2_col2\" class=\"data row2 col2\" >$               41.22</td>\n",
       "            </tr>\n",
       "            <tr>\n",
       "                        <th id=\"T_10e045b2_061a_11eb_8c65_acde48001122level0_row3\" class=\"row_heading level0 row3\" >132</th>\n",
       "                        <th id=\"T_10e045b2_061a_11eb_8c65_acde48001122level1_row3\" class=\"row_heading level1 row3\" >Persuasion</th>\n",
       "                        <td id=\"T_10e045b2_061a_11eb_8c65_acde48001122row3_col0\" class=\"data row3 col0\" >9</td>\n",
       "                        <td id=\"T_10e045b2_061a_11eb_8c65_acde48001122row3_col1\" class=\"data row3 col1\" >$                3.22</td>\n",
       "                        <td id=\"T_10e045b2_061a_11eb_8c65_acde48001122row3_col2\" class=\"data row3 col2\" >$               28.99</td>\n",
       "            </tr>\n",
       "            <tr>\n",
       "                        <th id=\"T_10e045b2_061a_11eb_8c65_acde48001122level0_row4\" class=\"row_heading level0 row4\" >108</th>\n",
       "                        <th id=\"T_10e045b2_061a_11eb_8c65_acde48001122level1_row4\" class=\"row_heading level1 row4\" >Extraction, Quickblade Of Trembling Hands</th>\n",
       "                        <td id=\"T_10e045b2_061a_11eb_8c65_acde48001122row4_col0\" class=\"data row4 col0\" >9</td>\n",
       "                        <td id=\"T_10e045b2_061a_11eb_8c65_acde48001122row4_col1\" class=\"data row4 col1\" >$                3.53</td>\n",
       "                        <td id=\"T_10e045b2_061a_11eb_8c65_acde48001122row4_col2\" class=\"data row4 col2\" >$               31.77</td>\n",
       "            </tr>\n",
       "    </tbody></table>"
      ],
      "text/plain": [
       "<pandas.io.formats.style.Styler at 0x7fc32882fe50>"
      ]
     },
     "execution_count": 31,
     "metadata": {},
     "output_type": "execute_result"
    }
   ],
   "source": [
    "item_df = pd.DataFrame(df.groupby(['Item_ID','Item_Name']).Price.agg(['count', 'mean', 'sum']))\n",
    "item_df = item_df.sort_values(by='count', ascending=False)\n",
    "item_df = item_df.rename(columns={'count': 'Purchase Count','mean': 'Average Purchase Price','sum': 'Total Purchase Value'})\n",
    "item_df = item_df.head(5).style.format({\"Average Purchase Price\": \"${:20,.2f}\",\"Total Purchase Value\": \"${:20,.2f}\"}).set_properties(**{'text-align': 'left'})\n",
    "\n",
    "item_df"
   ]
  },
  {
   "cell_type": "markdown",
   "metadata": {},
   "source": [
    "## Most Profitable Items"
   ]
  },
  {
   "cell_type": "markdown",
   "metadata": {},
   "source": [
    "* Sort the above table by total purchase value in descending order\n",
    "\n",
    "\n",
    "* Optional: give the displayed data cleaner formatting\n",
    "\n",
    "\n",
    "* Display a preview of the data frame\n",
    "\n"
   ]
  },
  {
   "cell_type": "code",
   "execution_count": 38,
   "metadata": {
    "scrolled": true
   },
   "outputs": [
    {
     "data": {
      "text/html": [
       "<style  type=\"text/css\" >\n",
       "#T_c0f8bde4_061a_11eb_8c65_acde48001122row0_col0,#T_c0f8bde4_061a_11eb_8c65_acde48001122row0_col1,#T_c0f8bde4_061a_11eb_8c65_acde48001122row0_col2,#T_c0f8bde4_061a_11eb_8c65_acde48001122row1_col0,#T_c0f8bde4_061a_11eb_8c65_acde48001122row1_col1,#T_c0f8bde4_061a_11eb_8c65_acde48001122row1_col2,#T_c0f8bde4_061a_11eb_8c65_acde48001122row2_col0,#T_c0f8bde4_061a_11eb_8c65_acde48001122row2_col1,#T_c0f8bde4_061a_11eb_8c65_acde48001122row2_col2,#T_c0f8bde4_061a_11eb_8c65_acde48001122row3_col0,#T_c0f8bde4_061a_11eb_8c65_acde48001122row3_col1,#T_c0f8bde4_061a_11eb_8c65_acde48001122row3_col2,#T_c0f8bde4_061a_11eb_8c65_acde48001122row4_col0,#T_c0f8bde4_061a_11eb_8c65_acde48001122row4_col1,#T_c0f8bde4_061a_11eb_8c65_acde48001122row4_col2{\n",
       "            text-align:  left;\n",
       "        }</style><table id=\"T_c0f8bde4_061a_11eb_8c65_acde48001122\" ><thead>    <tr>        <th class=\"blank\" ></th>        <th class=\"blank level0\" ></th>        <th class=\"col_heading level0 col0\" >Purchase Count</th>        <th class=\"col_heading level0 col1\" >Average Purchase Price</th>        <th class=\"col_heading level0 col2\" >Total Purchase Value</th>    </tr>    <tr>        <th class=\"index_name level0\" >Item_ID</th>        <th class=\"index_name level1\" >Item_Name</th>        <th class=\"blank\" ></th>        <th class=\"blank\" ></th>        <th class=\"blank\" ></th>    </tr></thead><tbody>\n",
       "                <tr>\n",
       "                        <th id=\"T_c0f8bde4_061a_11eb_8c65_acde48001122level0_row0\" class=\"row_heading level0 row0\" >92</th>\n",
       "                        <th id=\"T_c0f8bde4_061a_11eb_8c65_acde48001122level1_row0\" class=\"row_heading level1 row0\" >Final Critic</th>\n",
       "                        <td id=\"T_c0f8bde4_061a_11eb_8c65_acde48001122row0_col0\" class=\"data row0 col0\" >13</td>\n",
       "                        <td id=\"T_c0f8bde4_061a_11eb_8c65_acde48001122row0_col1\" class=\"data row0 col1\" >$                4.61</td>\n",
       "                        <td id=\"T_c0f8bde4_061a_11eb_8c65_acde48001122row0_col2\" class=\"data row0 col2\" >$               59.99</td>\n",
       "            </tr>\n",
       "            <tr>\n",
       "                        <th id=\"T_c0f8bde4_061a_11eb_8c65_acde48001122level0_row1\" class=\"row_heading level0 row1\" >178</th>\n",
       "                        <th id=\"T_c0f8bde4_061a_11eb_8c65_acde48001122level1_row1\" class=\"row_heading level1 row1\" >Oathbreaker, Last Hope of the Breaking Storm</th>\n",
       "                        <td id=\"T_c0f8bde4_061a_11eb_8c65_acde48001122row1_col0\" class=\"data row1 col0\" >12</td>\n",
       "                        <td id=\"T_c0f8bde4_061a_11eb_8c65_acde48001122row1_col1\" class=\"data row1 col1\" >$                4.23</td>\n",
       "                        <td id=\"T_c0f8bde4_061a_11eb_8c65_acde48001122row1_col2\" class=\"data row1 col2\" >$               50.76</td>\n",
       "            </tr>\n",
       "            <tr>\n",
       "                        <th id=\"T_c0f8bde4_061a_11eb_8c65_acde48001122level0_row2\" class=\"row_heading level0 row2\" >82</th>\n",
       "                        <th id=\"T_c0f8bde4_061a_11eb_8c65_acde48001122level1_row2\" class=\"row_heading level1 row2\" >Nirvana</th>\n",
       "                        <td id=\"T_c0f8bde4_061a_11eb_8c65_acde48001122row2_col0\" class=\"data row2 col0\" >9</td>\n",
       "                        <td id=\"T_c0f8bde4_061a_11eb_8c65_acde48001122row2_col1\" class=\"data row2 col1\" >$                4.90</td>\n",
       "                        <td id=\"T_c0f8bde4_061a_11eb_8c65_acde48001122row2_col2\" class=\"data row2 col2\" >$               44.10</td>\n",
       "            </tr>\n",
       "            <tr>\n",
       "                        <th id=\"T_c0f8bde4_061a_11eb_8c65_acde48001122level0_row3\" class=\"row_heading level0 row3\" >145</th>\n",
       "                        <th id=\"T_c0f8bde4_061a_11eb_8c65_acde48001122level1_row3\" class=\"row_heading level1 row3\" >Fiery Glass Crusader</th>\n",
       "                        <td id=\"T_c0f8bde4_061a_11eb_8c65_acde48001122row3_col0\" class=\"data row3 col0\" >9</td>\n",
       "                        <td id=\"T_c0f8bde4_061a_11eb_8c65_acde48001122row3_col1\" class=\"data row3 col1\" >$                4.58</td>\n",
       "                        <td id=\"T_c0f8bde4_061a_11eb_8c65_acde48001122row3_col2\" class=\"data row3 col2\" >$               41.22</td>\n",
       "            </tr>\n",
       "            <tr>\n",
       "                        <th id=\"T_c0f8bde4_061a_11eb_8c65_acde48001122level0_row4\" class=\"row_heading level0 row4\" >103</th>\n",
       "                        <th id=\"T_c0f8bde4_061a_11eb_8c65_acde48001122level1_row4\" class=\"row_heading level1 row4\" >Singed Scalpel</th>\n",
       "                        <td id=\"T_c0f8bde4_061a_11eb_8c65_acde48001122row4_col0\" class=\"data row4 col0\" >8</td>\n",
       "                        <td id=\"T_c0f8bde4_061a_11eb_8c65_acde48001122row4_col1\" class=\"data row4 col1\" >$                4.35</td>\n",
       "                        <td id=\"T_c0f8bde4_061a_11eb_8c65_acde48001122row4_col2\" class=\"data row4 col2\" >$               34.80</td>\n",
       "            </tr>\n",
       "    </tbody></table>"
      ],
      "text/plain": [
       "<pandas.io.formats.style.Styler at 0x7fc3288358d0>"
      ]
     },
     "execution_count": 38,
     "metadata": {},
     "output_type": "execute_result"
    }
   ],
   "source": [
    "profit_df = pd.DataFrame(df.groupby(['Item_ID','Item_Name']).Price.agg(['count', 'mean', 'sum']))\n",
    "profit_df = profit_df.sort_values(by='sum', ascending=False)\n",
    "profit_df = profit_df.rename(columns={'count': 'Purchase Count','mean': 'Average Purchase Price','sum': 'Total Purchase Value'})\n",
    "profit_df = profit_df.head(5).style.format({\"Average Purchase Price\": \"${:20,.2f}\",\"Total Purchase Value\": \"${:20,.2f}\"}).set_properties(**{'text-align': 'left'})\n",
    "\n",
    "profit_df"
   ]
  },
  {
   "cell_type": "code",
   "execution_count": null,
   "metadata": {},
   "outputs": [],
   "source": []
  }
 ],
 "metadata": {
  "anaconda-cloud": {},
  "kernel_info": {
   "name": "python3"
  },
  "kernelspec": {
   "display_name": "Python 3",
   "language": "python",
   "name": "python3"
  },
  "language_info": {
   "codemirror_mode": {
    "name": "ipython",
    "version": 3
   },
   "file_extension": ".py",
   "mimetype": "text/x-python",
   "name": "python",
   "nbconvert_exporter": "python",
   "pygments_lexer": "ipython3",
   "version": "3.7.9"
  },
  "latex_envs": {
   "LaTeX_envs_menu_present": true,
   "autoclose": false,
   "autocomplete": true,
   "bibliofile": "biblio.bib",
   "cite_by": "apalike",
   "current_citInitial": 1,
   "eqLabelWithNumbers": true,
   "eqNumInitial": 1,
   "hotkeys": {
    "equation": "Ctrl-E",
    "itemize": "Ctrl-I"
   },
   "labels_anchors": false,
   "latex_user_defs": false,
   "report_style_numbering": false,
   "user_envs_cfg": false
  },
  "nteract": {
   "version": "0.2.0"
  }
 },
 "nbformat": 4,
 "nbformat_minor": 2
}
